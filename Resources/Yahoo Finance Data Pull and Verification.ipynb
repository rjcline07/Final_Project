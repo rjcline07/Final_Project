{
 "cells": [
  {
   "cell_type": "code",
   "execution_count": 1,
   "metadata": {},
   "outputs": [],
   "source": [
    "import pandas as pd"
   ]
  },
  {
   "cell_type": "code",
   "execution_count": 5,
   "metadata": {
    "scrolled": true
   },
   "outputs": [
    {
     "name": "stdout",
     "output_type": "stream",
     "text": [
      "            Date         Open         High          Low        Close  \\\n",
      "0     2015-11-05  2101.679932  2108.780029  2090.409912  2099.929932   \n",
      "1     2015-11-06  2098.600098  2101.909912  2083.739990  2099.199951   \n",
      "2     2015-11-09  2096.560059  2096.560059  2068.239990  2078.580078   \n",
      "3     2015-11-10  2077.189941  2083.669922  2069.909912  2081.719971   \n",
      "4     2015-11-11  2083.409912  2086.939941  2074.850098  2075.000000   \n",
      "...          ...          ...          ...          ...          ...   \n",
      "1254  2020-10-29  3277.169922  3341.050049  3259.820068  3310.110107   \n",
      "1255  2020-10-30  3293.590088  3304.929932  3233.939941  3269.959961   \n",
      "1256  2020-11-02  3296.199951  3330.139893  3279.739990  3310.239990   \n",
      "1257  2020-11-03  3336.250000  3389.489990  3336.250000  3369.159912   \n",
      "1258  2020-11-04  3406.459961  3486.250000  3405.169922  3443.439941   \n",
      "\n",
      "        Adj Close      Volume  \n",
      "0     2099.929932  4051890000  \n",
      "1     2099.199951  4369020000  \n",
      "2     2078.580078  3882350000  \n",
      "3     2081.719971  3821440000  \n",
      "4     2075.000000  3692410000  \n",
      "...           ...         ...  \n",
      "1254  3310.110107  4903070000  \n",
      "1255  3269.959961  4840450000  \n",
      "1256  3310.239990  4310590000  \n",
      "1257  3369.159912  4220070000  \n",
      "1258  3443.439941  4783040000  \n",
      "\n",
      "[1259 rows x 7 columns]\n"
     ]
    }
   ],
   "source": [
    "SPCSV = pd.read_csv('^GSPC.csv')\n",
    "print(SPCSV)"
   ]
  },
  {
   "cell_type": "code",
   "execution_count": 6,
   "metadata": {},
   "outputs": [
    {
     "data": {
      "text/plain": [
       "False"
      ]
     },
     "execution_count": 6,
     "metadata": {},
     "output_type": "execute_result"
    }
   ],
   "source": [
    "SPCSV.isnull().values.any()"
   ]
  },
  {
   "cell_type": "code",
   "execution_count": 7,
   "metadata": {},
   "outputs": [
    {
     "data": {
      "text/html": [
       "<div>\n",
       "<style scoped>\n",
       "    .dataframe tbody tr th:only-of-type {\n",
       "        vertical-align: middle;\n",
       "    }\n",
       "\n",
       "    .dataframe tbody tr th {\n",
       "        vertical-align: top;\n",
       "    }\n",
       "\n",
       "    .dataframe thead th {\n",
       "        text-align: right;\n",
       "    }\n",
       "</style>\n",
       "<table border=\"1\" class=\"dataframe\">\n",
       "  <thead>\n",
       "    <tr style=\"text-align: right;\">\n",
       "      <th></th>\n",
       "      <th>Date</th>\n",
       "      <th>Open</th>\n",
       "      <th>High</th>\n",
       "      <th>Low</th>\n",
       "      <th>Close</th>\n",
       "      <th>Adj Close</th>\n",
       "      <th>Volume</th>\n",
       "    </tr>\n",
       "  </thead>\n",
       "  <tbody>\n",
       "    <tr>\n",
       "      <th>0</th>\n",
       "      <td>2015-11-05</td>\n",
       "      <td>2101.679932</td>\n",
       "      <td>2108.780029</td>\n",
       "      <td>2090.409912</td>\n",
       "      <td>2099.929932</td>\n",
       "      <td>2099.929932</td>\n",
       "      <td>4051890000</td>\n",
       "    </tr>\n",
       "    <tr>\n",
       "      <th>1</th>\n",
       "      <td>2015-11-06</td>\n",
       "      <td>2098.600098</td>\n",
       "      <td>2101.909912</td>\n",
       "      <td>2083.739990</td>\n",
       "      <td>2099.199951</td>\n",
       "      <td>2099.199951</td>\n",
       "      <td>4369020000</td>\n",
       "    </tr>\n",
       "    <tr>\n",
       "      <th>2</th>\n",
       "      <td>2015-11-09</td>\n",
       "      <td>2096.560059</td>\n",
       "      <td>2096.560059</td>\n",
       "      <td>2068.239990</td>\n",
       "      <td>2078.580078</td>\n",
       "      <td>2078.580078</td>\n",
       "      <td>3882350000</td>\n",
       "    </tr>\n",
       "    <tr>\n",
       "      <th>3</th>\n",
       "      <td>2015-11-10</td>\n",
       "      <td>2077.189941</td>\n",
       "      <td>2083.669922</td>\n",
       "      <td>2069.909912</td>\n",
       "      <td>2081.719971</td>\n",
       "      <td>2081.719971</td>\n",
       "      <td>3821440000</td>\n",
       "    </tr>\n",
       "    <tr>\n",
       "      <th>4</th>\n",
       "      <td>2015-11-11</td>\n",
       "      <td>2083.409912</td>\n",
       "      <td>2086.939941</td>\n",
       "      <td>2074.850098</td>\n",
       "      <td>2075.000000</td>\n",
       "      <td>2075.000000</td>\n",
       "      <td>3692410000</td>\n",
       "    </tr>\n",
       "    <tr>\n",
       "      <th>...</th>\n",
       "      <td>...</td>\n",
       "      <td>...</td>\n",
       "      <td>...</td>\n",
       "      <td>...</td>\n",
       "      <td>...</td>\n",
       "      <td>...</td>\n",
       "      <td>...</td>\n",
       "    </tr>\n",
       "    <tr>\n",
       "      <th>1254</th>\n",
       "      <td>2020-10-29</td>\n",
       "      <td>3277.169922</td>\n",
       "      <td>3341.050049</td>\n",
       "      <td>3259.820068</td>\n",
       "      <td>3310.110107</td>\n",
       "      <td>3310.110107</td>\n",
       "      <td>4903070000</td>\n",
       "    </tr>\n",
       "    <tr>\n",
       "      <th>1255</th>\n",
       "      <td>2020-10-30</td>\n",
       "      <td>3293.590088</td>\n",
       "      <td>3304.929932</td>\n",
       "      <td>3233.939941</td>\n",
       "      <td>3269.959961</td>\n",
       "      <td>3269.959961</td>\n",
       "      <td>4840450000</td>\n",
       "    </tr>\n",
       "    <tr>\n",
       "      <th>1256</th>\n",
       "      <td>2020-11-02</td>\n",
       "      <td>3296.199951</td>\n",
       "      <td>3330.139893</td>\n",
       "      <td>3279.739990</td>\n",
       "      <td>3310.239990</td>\n",
       "      <td>3310.239990</td>\n",
       "      <td>4310590000</td>\n",
       "    </tr>\n",
       "    <tr>\n",
       "      <th>1257</th>\n",
       "      <td>2020-11-03</td>\n",
       "      <td>3336.250000</td>\n",
       "      <td>3389.489990</td>\n",
       "      <td>3336.250000</td>\n",
       "      <td>3369.159912</td>\n",
       "      <td>3369.159912</td>\n",
       "      <td>4220070000</td>\n",
       "    </tr>\n",
       "    <tr>\n",
       "      <th>1258</th>\n",
       "      <td>2020-11-04</td>\n",
       "      <td>3406.459961</td>\n",
       "      <td>3486.250000</td>\n",
       "      <td>3405.169922</td>\n",
       "      <td>3443.439941</td>\n",
       "      <td>3443.439941</td>\n",
       "      <td>4783040000</td>\n",
       "    </tr>\n",
       "  </tbody>\n",
       "</table>\n",
       "<p>1259 rows × 7 columns</p>\n",
       "</div>"
      ],
      "text/plain": [
       "            Date         Open         High          Low        Close  \\\n",
       "0     2015-11-05  2101.679932  2108.780029  2090.409912  2099.929932   \n",
       "1     2015-11-06  2098.600098  2101.909912  2083.739990  2099.199951   \n",
       "2     2015-11-09  2096.560059  2096.560059  2068.239990  2078.580078   \n",
       "3     2015-11-10  2077.189941  2083.669922  2069.909912  2081.719971   \n",
       "4     2015-11-11  2083.409912  2086.939941  2074.850098  2075.000000   \n",
       "...          ...          ...          ...          ...          ...   \n",
       "1254  2020-10-29  3277.169922  3341.050049  3259.820068  3310.110107   \n",
       "1255  2020-10-30  3293.590088  3304.929932  3233.939941  3269.959961   \n",
       "1256  2020-11-02  3296.199951  3330.139893  3279.739990  3310.239990   \n",
       "1257  2020-11-03  3336.250000  3389.489990  3336.250000  3369.159912   \n",
       "1258  2020-11-04  3406.459961  3486.250000  3405.169922  3443.439941   \n",
       "\n",
       "        Adj Close      Volume  \n",
       "0     2099.929932  4051890000  \n",
       "1     2099.199951  4369020000  \n",
       "2     2078.580078  3882350000  \n",
       "3     2081.719971  3821440000  \n",
       "4     2075.000000  3692410000  \n",
       "...           ...         ...  \n",
       "1254  3310.110107  4903070000  \n",
       "1255  3269.959961  4840450000  \n",
       "1256  3310.239990  4310590000  \n",
       "1257  3369.159912  4220070000  \n",
       "1258  3443.439941  4783040000  \n",
       "\n",
       "[1259 rows x 7 columns]"
      ]
     },
     "execution_count": 7,
     "metadata": {},
     "output_type": "execute_result"
    }
   ],
   "source": [
    "SPCSV"
   ]
  },
  {
   "cell_type": "code",
   "execution_count": null,
   "metadata": {},
   "outputs": [],
   "source": []
  }
 ],
 "metadata": {
  "kernelspec": {
<<<<<<< HEAD:Yahoo Finance Data Pull and Verification.ipynb
   "display_name": "Python [conda env:PythonData]",
=======
   "display_name": "Python 3",
>>>>>>> 2e706da8889bef73753532555104ef8561604341:data files/Yahoo Finance Data Pull and Verification.ipynb
   "language": "python",
   "name": "python3"
  },
  "language_info": {
   "codemirror_mode": {
    "name": "ipython",
    "version": 3
   },
   "file_extension": ".py",
   "mimetype": "text/x-python",
   "name": "python",
   "nbconvert_exporter": "python",
   "pygments_lexer": "ipython3",
<<<<<<< HEAD:Yahoo Finance Data Pull and Verification.ipynb
   "version": "3.6.10"
=======
   "version": "3.7.6"
>>>>>>> 2e706da8889bef73753532555104ef8561604341:data files/Yahoo Finance Data Pull and Verification.ipynb
  }
 },
 "nbformat": 4,
 "nbformat_minor": 4
}
